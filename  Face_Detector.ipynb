{
 "cells": [
  {
   "cell_type": "code",
   "execution_count": 1,
   "id": "f71e70c6",
   "metadata": {},
   "outputs": [],
   "source": [
    "import PySimpleGUI as sg\n",
    "import cv2\n",
    " \n",
    "layout = [\n",
    "    [sg.Image(key = '-IMAGE-')],\n",
    "    [sg.Text('People in picture: 0', key = '-TEXT-', expand_x = True, justification = 'c')]\n",
    "]\n",
    " \n",
    "window = sg.Window('Face Detector', layout)\n",
    " \n",
    "# get video\n",
    "video = cv2.VideoCapture(0)\n",
    "face_cascade = cv2.CascadeClassifier(cv2.data.haarcascades +'haarcascade_frontalface_default.xml')\n",
    "eye_cascade = cv2.CascadeClassifier(cv2.data.haarcascades + 'haarcascade_eye.xml')\n",
    "while True:\n",
    "    event, values = window.read(timeout = 0)\n",
    "    if event == sg.WIN_CLOSED:\n",
    "        break\n",
    " \n",
    "    _, frame = video.read()\n",
    "    gray = cv2.cvtColor(frame,cv2.COLOR_BGR2GRAY)\n",
    "    faces = face_cascade.detectMultiScale(\n",
    "        gray,\n",
    "        scaleFactor = 1.3, \n",
    "        minNeighbors = 7,\n",
    "        minSize =(30,30))\n",
    " \n",
    "    # draw the rectangles\n",
    "    for (x, y, w, h) in faces:\n",
    "        cv2.rectangle(frame,(x,y),(x + w, y + h),(0,255,0),2)\n",
    " \n",
    "    # update the image\n",
    "    imgbytes = cv2.imencode('.png',frame)[1].tobytes()\n",
    "    window['-IMAGE-'].update(data = imgbytes)\n",
    " \n",
    "    # update the text\n",
    "    window['-TEXT-'].update(f'People in picture: {len(faces)}')\n",
    "window.close()"
   ]
  },
  {
   "cell_type": "code",
   "execution_count": null,
   "id": "9fe538bc",
   "metadata": {},
   "outputs": [],
   "source": []
  }
 ],
 "metadata": {
  "kernelspec": {
   "display_name": "Python 3 (ipykernel)",
   "language": "python",
   "name": "python3"
  },
  "language_info": {
   "codemirror_mode": {
    "name": "ipython",
    "version": 3
   },
   "file_extension": ".py",
   "mimetype": "text/x-python",
   "name": "python",
   "nbconvert_exporter": "python",
   "pygments_lexer": "ipython3",
   "version": "3.9.12"
  }
 },
 "nbformat": 4,
 "nbformat_minor": 5
}
